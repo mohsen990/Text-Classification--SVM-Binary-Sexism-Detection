{
  "nbformat": 4,
  "nbformat_minor": 0,
  "metadata": {
    "colab": {
      "provenance": [],
      "authorship_tag": "ABX9TyMPnPQYSEmjWwgDOQD7EMuO",
      "include_colab_link": true
    },
    "kernelspec": {
      "name": "python3",
      "display_name": "Python 3"
    },
    "language_info": {
      "name": "python"
    }
  },
  "cells": [
    {
      "cell_type": "markdown",
      "metadata": {
        "id": "view-in-github",
        "colab_type": "text"
      },
      "source": [
        "<a href=\"https://colab.research.google.com/github/mohsen990/Text-Classification--SVM-Binary-Sexism-Detection/blob/main/SVM_Binary_Sexism_Detection.ipynb\" target=\"_parent\"><img src=\"https://colab.research.google.com/assets/colab-badge.svg\" alt=\"Open In Colab\"/></a>"
      ]
    },
    {
      "cell_type": "code",
      "execution_count": 47,
      "metadata": {
        "id": "XpKLkdteGiY9"
      },
      "outputs": [],
      "source": [
        "import pandas as pd\n",
        "from sklearn.feature_extraction.text import TfidfVectorizer\n",
        "from sklearn.model_selection import train_test_split\n",
        "from sklearn.svm import SVC\n",
        "from sklearn.metrics import accuracy_score, classification_report"
      ]
    },
    {
      "cell_type": "code",
      "source": [
        "from google.colab import drive\n",
        "drive.mount('/content/drive')\n"
      ],
      "metadata": {
        "colab": {
          "base_uri": "https://localhost:8080/"
        },
        "id": "umA8SC0hHBY9",
        "outputId": "43941362-cda9-48c1-f4ad-6df9974b5df5"
      },
      "execution_count": 48,
      "outputs": [
        {
          "output_type": "stream",
          "name": "stdout",
          "text": [
            "Drive already mounted at /content/drive; to attempt to forcibly remount, call drive.mount(\"/content/drive\", force_remount=True).\n"
          ]
        }
      ]
    },
    {
      "cell_type": "code",
      "source": [
        "df_train = pd.read_csv(\"/content/drive/MyDrive/GoEmotions/train_all_tasks.csv\")\n",
        "df = df_train[['text','label_sexist']].head(10000)\n",
        "print(df.shape)\n",
        "print(df.head(20))\n",
        "\n",
        "# Splitting the data into training and testing sets\n",
        "X_train, X_test, y_train, y_test = train_test_split(df['text'], df['label_sexist'], test_size=0.2, random_state=42)"
      ],
      "metadata": {
        "colab": {
          "base_uri": "https://localhost:8080/"
        },
        "id": "15rM9Ab7HyKJ",
        "outputId": "1d0d2f53-6f8f-4e5f-9f2e-cd5ea2a19852"
      },
      "execution_count": 49,
      "outputs": [
        {
          "output_type": "stream",
          "name": "stdout",
          "text": [
            "(10000, 2)\n",
            "                                                 text label_sexist\n",
            "0               Damn, this writing was pretty chaotic   not sexist\n",
            "1   Yeah, and apparently a bunch of misogynistic v...   not sexist\n",
            "2        How the FUCK is this woman still an MP!!!???   not sexist\n",
            "3   Understand. Know you're right. At same time I ...   not sexist\n",
            "4      Surprized they didn't stop and rape some women   not sexist\n",
            "5   yeah but in order to keep the benefit i have t...   not sexist\n",
            "6   Hahaha I just wish they would live their truth...   not sexist\n",
            "7   head mod said she talked to him after he made ...   not sexist\n",
            "8   just the inside of your wallet: cash, bank car...       sexist\n",
            "9   We most definitely did. I didn’t go too much i...   not sexist\n",
            "10  \"Oh shit, she clearly knows more about Big 5 t...   not sexist\n",
            "11  They get the initial chance because they are a...       sexist\n",
            "12  My first words as President would be to ban Sp...   not sexist\n",
            "13  Sometimes, when I'm down about girls for some ...   not sexist\n",
            "14  trump's immigration policy is :eek: to some ca...   not sexist\n",
            "15  There's also enough evidence to like Goldberg ...   not sexist\n",
            "16  She was dumb as fuck, blatantly inflammatory, ...   not sexist\n",
            "17                    ugly chicks A pussy is a pussy.       sexist\n",
            "18  fuck her off with a nine mm this is what you g...       sexist\n",
            "19  How about I talk shit to an idiot like you? Ar...       sexist\n"
          ]
        }
      ]
    },
    {
      "cell_type": "code",
      "source": [
        "# TF-IDF Vectorization\n",
        "vectorizer = TfidfVectorizer(max_features=1000)\n",
        "X_train_tfidf = vectorizer.fit_transform(X_train)\n",
        "X_test_tfidf = vectorizer.transform(X_test)"
      ],
      "metadata": {
        "id": "I4L-2VNdJTlh"
      },
      "execution_count": 50,
      "outputs": []
    },
    {
      "cell_type": "code",
      "source": [
        "# SVM Model\n",
        "svm_model = SVC(kernel='linear', C=1.0)\n",
        "svm_model.fit(X_train_tfidf, y_train)"
      ],
      "metadata": {
        "colab": {
          "base_uri": "https://localhost:8080/",
          "height": 74
        },
        "id": "j_7ofrFUJWNo",
        "outputId": "bf6b7ebb-c1d4-4e78-c633-969d72131acf"
      },
      "execution_count": 51,
      "outputs": [
        {
          "output_type": "execute_result",
          "data": {
            "text/plain": [
              "SVC(kernel='linear')"
            ],
            "text/html": [
              "<style>#sk-container-id-6 {color: black;background-color: white;}#sk-container-id-6 pre{padding: 0;}#sk-container-id-6 div.sk-toggleable {background-color: white;}#sk-container-id-6 label.sk-toggleable__label {cursor: pointer;display: block;width: 100%;margin-bottom: 0;padding: 0.3em;box-sizing: border-box;text-align: center;}#sk-container-id-6 label.sk-toggleable__label-arrow:before {content: \"▸\";float: left;margin-right: 0.25em;color: #696969;}#sk-container-id-6 label.sk-toggleable__label-arrow:hover:before {color: black;}#sk-container-id-6 div.sk-estimator:hover label.sk-toggleable__label-arrow:before {color: black;}#sk-container-id-6 div.sk-toggleable__content {max-height: 0;max-width: 0;overflow: hidden;text-align: left;background-color: #f0f8ff;}#sk-container-id-6 div.sk-toggleable__content pre {margin: 0.2em;color: black;border-radius: 0.25em;background-color: #f0f8ff;}#sk-container-id-6 input.sk-toggleable__control:checked~div.sk-toggleable__content {max-height: 200px;max-width: 100%;overflow: auto;}#sk-container-id-6 input.sk-toggleable__control:checked~label.sk-toggleable__label-arrow:before {content: \"▾\";}#sk-container-id-6 div.sk-estimator input.sk-toggleable__control:checked~label.sk-toggleable__label {background-color: #d4ebff;}#sk-container-id-6 div.sk-label input.sk-toggleable__control:checked~label.sk-toggleable__label {background-color: #d4ebff;}#sk-container-id-6 input.sk-hidden--visually {border: 0;clip: rect(1px 1px 1px 1px);clip: rect(1px, 1px, 1px, 1px);height: 1px;margin: -1px;overflow: hidden;padding: 0;position: absolute;width: 1px;}#sk-container-id-6 div.sk-estimator {font-family: monospace;background-color: #f0f8ff;border: 1px dotted black;border-radius: 0.25em;box-sizing: border-box;margin-bottom: 0.5em;}#sk-container-id-6 div.sk-estimator:hover {background-color: #d4ebff;}#sk-container-id-6 div.sk-parallel-item::after {content: \"\";width: 100%;border-bottom: 1px solid gray;flex-grow: 1;}#sk-container-id-6 div.sk-label:hover label.sk-toggleable__label {background-color: #d4ebff;}#sk-container-id-6 div.sk-serial::before {content: \"\";position: absolute;border-left: 1px solid gray;box-sizing: border-box;top: 0;bottom: 0;left: 50%;z-index: 0;}#sk-container-id-6 div.sk-serial {display: flex;flex-direction: column;align-items: center;background-color: white;padding-right: 0.2em;padding-left: 0.2em;position: relative;}#sk-container-id-6 div.sk-item {position: relative;z-index: 1;}#sk-container-id-6 div.sk-parallel {display: flex;align-items: stretch;justify-content: center;background-color: white;position: relative;}#sk-container-id-6 div.sk-item::before, #sk-container-id-6 div.sk-parallel-item::before {content: \"\";position: absolute;border-left: 1px solid gray;box-sizing: border-box;top: 0;bottom: 0;left: 50%;z-index: -1;}#sk-container-id-6 div.sk-parallel-item {display: flex;flex-direction: column;z-index: 1;position: relative;background-color: white;}#sk-container-id-6 div.sk-parallel-item:first-child::after {align-self: flex-end;width: 50%;}#sk-container-id-6 div.sk-parallel-item:last-child::after {align-self: flex-start;width: 50%;}#sk-container-id-6 div.sk-parallel-item:only-child::after {width: 0;}#sk-container-id-6 div.sk-dashed-wrapped {border: 1px dashed gray;margin: 0 0.4em 0.5em 0.4em;box-sizing: border-box;padding-bottom: 0.4em;background-color: white;}#sk-container-id-6 div.sk-label label {font-family: monospace;font-weight: bold;display: inline-block;line-height: 1.2em;}#sk-container-id-6 div.sk-label-container {text-align: center;}#sk-container-id-6 div.sk-container {/* jupyter's `normalize.less` sets `[hidden] { display: none; }` but bootstrap.min.css set `[hidden] { display: none !important; }` so we also need the `!important` here to be able to override the default hidden behavior on the sphinx rendered scikit-learn.org. See: https://github.com/scikit-learn/scikit-learn/issues/21755 */display: inline-block !important;position: relative;}#sk-container-id-6 div.sk-text-repr-fallback {display: none;}</style><div id=\"sk-container-id-6\" class=\"sk-top-container\"><div class=\"sk-text-repr-fallback\"><pre>SVC(kernel=&#x27;linear&#x27;)</pre><b>In a Jupyter environment, please rerun this cell to show the HTML representation or trust the notebook. <br />On GitHub, the HTML representation is unable to render, please try loading this page with nbviewer.org.</b></div><div class=\"sk-container\" hidden><div class=\"sk-item\"><div class=\"sk-estimator sk-toggleable\"><input class=\"sk-toggleable__control sk-hidden--visually\" id=\"sk-estimator-id-6\" type=\"checkbox\" checked><label for=\"sk-estimator-id-6\" class=\"sk-toggleable__label sk-toggleable__label-arrow\">SVC</label><div class=\"sk-toggleable__content\"><pre>SVC(kernel=&#x27;linear&#x27;)</pre></div></div></div></div></div>"
            ]
          },
          "metadata": {},
          "execution_count": 51
        }
      ]
    },
    {
      "cell_type": "code",
      "source": [
        "# Predictions\n",
        "y_pred = svm_model.predict(X_test_tfidf)"
      ],
      "metadata": {
        "id": "UqQfF3NTJY8u"
      },
      "execution_count": 52,
      "outputs": []
    },
    {
      "cell_type": "code",
      "source": [
        "# Evaluation\n",
        "accuracy = accuracy_score(y_test, y_pred)\n",
        "print(\"Accuracy:\", accuracy)\n",
        "\n",
        "# Printing classification report\n",
        "print(\"\\nClassification Report:\")\n",
        "print(classification_report(y_test, y_pred))"
      ],
      "metadata": {
        "colab": {
          "base_uri": "https://localhost:8080/"
        },
        "id": "_Mbfje8dJbTa",
        "outputId": "1d31fabc-8e78-470c-a62b-5ecec9e6aeb5"
      },
      "execution_count": 53,
      "outputs": [
        {
          "output_type": "stream",
          "name": "stdout",
          "text": [
            "Accuracy: 0.828\n",
            "\n",
            "Classification Report:\n",
            "              precision    recall  f1-score   support\n",
            "\n",
            "  not sexist       0.82      0.99      0.90      1529\n",
            "      sexist       0.93      0.29      0.44       471\n",
            "\n",
            "    accuracy                           0.83      2000\n",
            "   macro avg       0.88      0.64      0.67      2000\n",
            "weighted avg       0.85      0.83      0.79      2000\n",
            "\n"
          ]
        }
      ]
    },
    {
      "cell_type": "code",
      "source": [
        "X_test.shape"
      ],
      "metadata": {
        "colab": {
          "base_uri": "https://localhost:8080/"
        },
        "id": "AgYLdnCfKt4b",
        "outputId": "f45bb1b9-13a6-44bd-cebf-c3b2fd915017"
      },
      "execution_count": 54,
      "outputs": [
        {
          "output_type": "execute_result",
          "data": {
            "text/plain": [
              "(2000,)"
            ]
          },
          "metadata": {},
          "execution_count": 54
        }
      ]
    },
    {
      "cell_type": "code",
      "source": [
        "# Load the new data into a DataFrame (replace 'new_data.csv' with your file path)\n",
        "new_data = pd.read_csv('/content/drive/MyDrive/GoEmotions/newData.csv')\n",
        "\n",
        "# Preprocess the new data using the same vectorizer used for training\n",
        "X_new_tfidf = vectorizer.transform(new_data['Text'])\n",
        "#print(X_new_tfidf.head())\n",
        "# Use the trained SVM model to predict labels for the new data\n",
        "predicted_labels = svm_model.predict(X_new_tfidf)\n",
        "\n",
        "# Add the predicted labels to the DataFrame\n",
        "new_data['predicted_emotion'] = predicted_labels\n",
        "print(new_data.head(50))\n",
        "# Export the DataFrame with the new data and predicted labels to a CSV file\n",
        "new_data.to_csv('classified_data.csv', index=False)"
      ],
      "metadata": {
        "colab": {
          "base_uri": "https://localhost:8080/"
        },
        "id": "bf7I9fvaNEi8",
        "outputId": "232795ec-6831-4aab-d08d-060f88fbd7db"
      },
      "execution_count": 62,
      "outputs": [
        {
          "output_type": "stream",
          "name": "stdout",
          "text": [
            "                                                 Text  label_sexist  \\\n",
            "0   Where are they? *Literally everywhere.* It's m...           NaN   \n",
            "1   layin pipe lmfao, ðŸ˜† ðŸ˜† ðŸ˜† that pussy lo...           NaN   \n",
            "2   And it is women who are terrified of men contr...           NaN   \n",
            "3   Haha. The more men she was with prior to marri...           NaN   \n",
            "4   \"It's OK to attack one culture, but its not OK...           NaN   \n",
            "5   Or, youâ€™re her friend â€œSorry, this is Rich...           NaN   \n",
            "6   No they aren't, sugar daddies are the ones wit...           NaN   \n",
            "7   Once again a criminal is taken down by the Pol...           NaN   \n",
            "8                  Wish more mothers were like yours.           NaN   \n",
            "9   I've treated some women badly but I didn't do ...           NaN   \n",
            "10  How do u spell cunt? This woman is a traitor, ...           NaN   \n",
            "11  this roastie should learn how to read, there's...           NaN   \n",
            "12  you don't praise women who act like cunts > >:...           NaN   \n",
            "13  One drop of nigger means you're a nigger. Ya d...           NaN   \n",
            "14  yeah but I care more about tomboys than actual...           NaN   \n",
            "15  If I ever hear a friend complain about not bei...           NaN   \n",
            "16  Are they flocking in from all regions and voti...           NaN   \n",
            "17  So what? HALF of all voters voted for a cackli...           NaN   \n",
            "18  Hell we got half of America NOT on our side. M...           NaN   \n",
            "19  Phil and Jake from Modern Family. Phil for let...           NaN   \n",
            "20  Oh, good, I saw that idiot but didn't scroll d...           NaN   \n",
            "21                Yeah they are definitely idiots lol           NaN   \n",
            "22  The standards and dreamy expectations are wron...           NaN   \n",
            "23  Wages have never been \"income\" ...... not in A...           NaN   \n",
            "24  RT [USER]: Take a bow, Maxine Waters and the r...           NaN   \n",
            "25  Happened to my buddy too, was the best man in ...           NaN   \n",
            "26  Because women refused having sex with their hu...           NaN   \n",
            "27  Much more appropriate. Trump did not HAVE to r...           NaN   \n",
            "28  1. Stop calling girls, women and ladies \"femal...           NaN   \n",
            "29  Maybe her mom liked braves too much and was tr...           NaN   \n",
            "30  Maybe it's all the creepypasta I've been liste...           NaN   \n",
            "31  You're trying to learn how to swim by swinging...           NaN   \n",
            "32            Nope virtue is a female responsibility.           NaN   \n",
            "33  I feel terrible for judge Jeanne. Nasty women ...           NaN   \n",
            "34  She's either a lesbian (most likely) or she pr...           NaN   \n",
            "35  The guy needs a medalðŸ¥‡and a beerðŸº This m...           NaN   \n",
            "36  CNN is known for doxxing little old ladies. I'...           NaN   \n",
            "37  Yep. Democrats aren't very good at fixing disa...           NaN   \n",
            "38  um sweaty can we unpack this? its quite simple...           NaN   \n",
            "39  well i hope she learned her lesson from french...           NaN   \n",
            "40  Besides destroy the fabric of human unity? Not...           NaN   \n",
            "41  Women cannot make good friends. It's impossibl...           NaN   \n",
            "42  She's using one of those stupid filters To mak...           NaN   \n",
            "43  female political games Will you please elabora...           NaN   \n",
            "44  Is this the scarcity mindset. Your heart is wr...           NaN   \n",
            "45  Amazing scene. Love how some slut gets them al...           NaN   \n",
            "46  I've been doing this since day 1. At 6'4 Slipp...           NaN   \n",
            "47  So true on the weird...my sister was the pickl...           NaN   \n",
            "48  The situation in Great Britain shows that it's...           NaN   \n",
            "49  #NSFW #erotica #porn #girls #sexy #TeamSmut #b...           NaN   \n",
            "\n",
            "   label_sexist_real predicted_emotion  \n",
            "0         not sexist        not sexist  \n",
            "1             sexist            sexist  \n",
            "2             sexist            sexist  \n",
            "3             sexist        not sexist  \n",
            "4         not sexist        not sexist  \n",
            "5         not sexist        not sexist  \n",
            "6         not sexist        not sexist  \n",
            "7         not sexist        not sexist  \n",
            "8         not sexist        not sexist  \n",
            "9         not sexist        not sexist  \n",
            "10            sexist            sexist  \n",
            "11            sexist        not sexist  \n",
            "12            sexist            sexist  \n",
            "13        not sexist        not sexist  \n",
            "14            sexist        not sexist  \n",
            "15        not sexist        not sexist  \n",
            "16        not sexist        not sexist  \n",
            "17        not sexist        not sexist  \n",
            "18        not sexist        not sexist  \n",
            "19        not sexist        not sexist  \n",
            "20        not sexist        not sexist  \n",
            "21        not sexist        not sexist  \n",
            "22        not sexist        not sexist  \n",
            "23        not sexist        not sexist  \n",
            "24        not sexist        not sexist  \n",
            "25            sexist            sexist  \n",
            "26        not sexist        not sexist  \n",
            "27        not sexist        not sexist  \n",
            "28        not sexist        not sexist  \n",
            "29        not sexist        not sexist  \n",
            "30        not sexist        not sexist  \n",
            "31        not sexist        not sexist  \n",
            "32            sexist        not sexist  \n",
            "33        not sexist        not sexist  \n",
            "34        not sexist        not sexist  \n",
            "35        not sexist        not sexist  \n",
            "36        not sexist        not sexist  \n",
            "37        not sexist        not sexist  \n",
            "38        not sexist        not sexist  \n",
            "39        not sexist        not sexist  \n",
            "40        not sexist        not sexist  \n",
            "41            sexist        not sexist  \n",
            "42            sexist            sexist  \n",
            "43        not sexist        not sexist  \n",
            "44            sexist        not sexist  \n",
            "45            sexist            sexist  \n",
            "46            sexist        not sexist  \n",
            "47        not sexist        not sexist  \n",
            "48        not sexist        not sexist  \n",
            "49        not sexist        not sexist  \n"
          ]
        }
      ]
    }
  ]
}